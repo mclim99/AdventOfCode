{
 "cells": [
  {
   "cell_type": "code",
   "execution_count": 29,
   "metadata": {},
   "outputs": [
    {
     "name": "stdout",
     "output_type": "stream",
     "text": [
      "1707\n"
     ]
    }
   ],
   "source": [
    "# Part 1\n",
    "with open(\"input.txt\") as read_file:\n",
    "    inputs = read_file.read()\n",
    "    input_list = list(inputs)\n",
    "    input_list.pop()\n",
    "\n",
    "    sequence = []\n",
    "    sequence_length = 4\n",
    "    character_frequency = {}\n",
    "    character_index = -1\n",
    "    for i in range(len(input_list)):\n",
    "        current_character = input_list[i]\n",
    "\n",
    "        if len(sequence) == sequence_length:\n",
    "            first_character = sequence.pop(0)\n",
    "            character_frequency[first_character] -= 1\n",
    "            \n",
    "        if 0 in list(character_frequency.values()):\n",
    "            key_index = list(character_frequency.values()).index(0)\n",
    "            keys = list(character_frequency.keys())\n",
    "            character_frequency.pop(keys[key_index])\n",
    "\n",
    "        sequence.append(current_character)\n",
    "        character_frequency[current_character] = character_frequency.setdefault(current_character, 0) + 1\n",
    "\n",
    "        if (len(sequence) == sequence_length) and (list(character_frequency.values()).count(1) == sequence_length):\n",
    "            character_index = i + 1\n",
    "            break\n",
    "\n",
    "    print(character_index)"
   ]
  },
  {
   "cell_type": "code",
   "execution_count": 30,
   "metadata": {},
   "outputs": [
    {
     "name": "stdout",
     "output_type": "stream",
     "text": [
      "3697\n"
     ]
    }
   ],
   "source": [
    "# Part 2\n",
    "with open(\"input.txt\") as read_file:\n",
    "    inputs = read_file.read()\n",
    "    input_list = list(inputs)\n",
    "    input_list.pop()\n",
    "\n",
    "    sequence = []\n",
    "    sequence_length = 14\n",
    "    character_frequency = {}\n",
    "    character_index = -1\n",
    "    for i in range(len(input_list)):\n",
    "        current_character = input_list[i]\n",
    "\n",
    "        if len(sequence) == sequence_length:\n",
    "            first_character = sequence.pop(0)\n",
    "            character_frequency[first_character] -= 1\n",
    "            \n",
    "        if 0 in list(character_frequency.values()):\n",
    "            key_index = list(character_frequency.values()).index(0)\n",
    "            keys = list(character_frequency.keys())\n",
    "            character_frequency.pop(keys[key_index])\n",
    "\n",
    "        sequence.append(current_character)\n",
    "        character_frequency[current_character] = character_frequency.setdefault(current_character, 0) + 1\n",
    "\n",
    "        if (len(sequence) == sequence_length) and (list(character_frequency.values()).count(1) == sequence_length):\n",
    "            character_index = i + 1\n",
    "            break\n",
    "\n",
    "    print(character_index)"
   ]
  }
 ],
 "metadata": {
  "kernelspec": {
   "display_name": "Python 3.11.0 64-bit",
   "language": "python",
   "name": "python3"
  },
  "language_info": {
   "codemirror_mode": {
    "name": "ipython",
    "version": 3
   },
   "file_extension": ".py",
   "mimetype": "text/x-python",
   "name": "python",
   "nbconvert_exporter": "python",
   "pygments_lexer": "ipython3",
   "version": "3.11.0"
  },
  "orig_nbformat": 4,
  "vscode": {
   "interpreter": {
    "hash": "5238573367df39f7286bb46f9ff5f08f63a01a80960060ce41e3c79b190280fa"
   }
  }
 },
 "nbformat": 4,
 "nbformat_minor": 2
}
