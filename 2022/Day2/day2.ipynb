{
 "cells": [
  {
   "cell_type": "code",
   "execution_count": 11,
   "metadata": {},
   "outputs": [
    {
     "name": "stdout",
     "output_type": "stream",
     "text": [
      "13268\n"
     ]
    }
   ],
   "source": [
    "# Part 1\n",
    "with open(\"input.txt\") as read_file:\n",
    "    inputs = read_file.read()\n",
    "    input_list = inputs.split('\\n')\n",
    "    input_list.pop()\n",
    "\n",
    "    score_mapping = {'X': 1, 'Y': 2, 'Z': 3}\n",
    "    total_score = 0\n",
    "    for input in input_list:\n",
    "        rps_choice = input.split(' ')\n",
    "        opponent_choice = rps_choice[0]\n",
    "        player_choice = rps_choice[1]\n",
    "\n",
    "        total_score += score_mapping.get(player_choice)\n",
    "        if (opponent_choice == 'A') and (player_choice == 'Y'):\n",
    "            total_score += 6\n",
    "        elif (opponent_choice == 'A') and (player_choice == 'X'):\n",
    "            total_score += 3\n",
    "        \n",
    "        if (opponent_choice == 'B') and (player_choice == 'Z'):\n",
    "            total_score += 6\n",
    "        elif (opponent_choice == 'B') and (player_choice == 'Y'):\n",
    "            total_score += 3\n",
    "\n",
    "        if (opponent_choice == 'C') and (player_choice == 'X'):\n",
    "            total_score += 6\n",
    "        elif (opponent_choice == 'C') and (player_choice == 'Z'):\n",
    "            total_score += 3\n",
    "\n",
    "    print(total_score)"
   ]
  },
  {
   "cell_type": "code",
   "execution_count": 1,
   "metadata": {},
   "outputs": [
    {
     "name": "stdout",
     "output_type": "stream",
     "text": [
      "15508\n"
     ]
    }
   ],
   "source": [
    "# Part 2\n",
    "with open(\"input.txt\") as read_file:\n",
    "    inputs = read_file.read()\n",
    "    input_list = inputs.split('\\n')\n",
    "    input_list.pop()\n",
    "\n",
    "    choice_mapping = {'A': 1, 'B': 2, 'C': 3}\n",
    "    score_mapping = {'X': 0, 'Y': 3, 'Z': 6}\n",
    "    total_score = 0\n",
    "    for input in input_list:\n",
    "        rps_choice = input.split(' ')\n",
    "        opponent_choice = rps_choice[0]\n",
    "        ending = rps_choice[1]\n",
    "\n",
    "        total_score += score_mapping.get(ending)\n",
    "        if (opponent_choice == 'A') and (ending == 'X'):\n",
    "            total_score += choice_mapping.get('C')\n",
    "        elif (opponent_choice == 'A') and (ending == 'Y'):\n",
    "            total_score += choice_mapping.get('A')\n",
    "        elif (opponent_choice == 'A') and (ending == 'Z'):\n",
    "            total_score += choice_mapping.get('B')\n",
    "            \n",
    "        if (opponent_choice == 'B') and (ending == 'X'):\n",
    "            total_score += choice_mapping.get('A')\n",
    "        elif (opponent_choice == 'B') and (ending == 'Y'):\n",
    "            total_score += choice_mapping.get('B')\n",
    "        elif (opponent_choice == 'B') and (ending == 'Z'):\n",
    "            total_score += choice_mapping.get('C')\n",
    "\n",
    "        if (opponent_choice == 'C') and (ending == 'X'):\n",
    "            total_score += choice_mapping.get('B')\n",
    "        elif (opponent_choice == 'C') and (ending == 'Y'):\n",
    "            total_score += choice_mapping.get('C')\n",
    "        elif (opponent_choice == 'C') and (ending == 'Z'):\n",
    "            total_score += choice_mapping.get('A')\n",
    "\n",
    "    print(total_score)"
   ]
  }
 ],
 "metadata": {
  "kernelspec": {
   "display_name": "Python 3.11.0 64-bit",
   "language": "python",
   "name": "python3"
  },
  "language_info": {
   "codemirror_mode": {
    "name": "ipython",
    "version": 3
   },
   "file_extension": ".py",
   "mimetype": "text/x-python",
   "name": "python",
   "nbconvert_exporter": "python",
   "pygments_lexer": "ipython3",
   "version": "3.11.0"
  },
  "orig_nbformat": 4,
  "vscode": {
   "interpreter": {
    "hash": "5238573367df39f7286bb46f9ff5f08f63a01a80960060ce41e3c79b190280fa"
   }
  }
 },
 "nbformat": 4,
 "nbformat_minor": 2
}
