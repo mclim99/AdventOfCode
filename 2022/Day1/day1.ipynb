{
 "cells": [
  {
   "cell_type": "code",
   "execution_count": 4,
   "metadata": {},
   "outputs": [
    {
     "name": "stdout",
     "output_type": "stream",
     "text": [
      "66487\n"
     ]
    }
   ],
   "source": [
    "# Part 1\n",
    "with open(\"input.txt\") as read_file:\n",
    "    inputs = read_file.read()\n",
    "    input_list = inputs.split('\\n')\n",
    "\n",
    "    for i in range(len(input_list)):\n",
    "        if input_list[i] != '':\n",
    "            input_list[i] = int(input_list[i])\n",
    "\n",
    "    total_calories = 0 # Total calories for one elf\n",
    "    most_calories = 0 # Most calories overall\n",
    "    for calorie in input_list:\n",
    "        if type(calorie) == int:\n",
    "            total_calories += calorie\n",
    "        else:\n",
    "            if total_calories > most_calories:\n",
    "                most_calories = total_calories\n",
    "            \n",
    "            total_calories = 0\n",
    "            \n",
    "    print(most_calories)"
   ]
  },
  {
   "cell_type": "code",
   "execution_count": 2,
   "metadata": {},
   "outputs": [
    {
     "name": "stdout",
     "output_type": "stream",
     "text": [
      "197301\n",
      "66487\n",
      "65413\n",
      "65401\n"
     ]
    }
   ],
   "source": [
    "# Part 2\n",
    "with open(\"input.txt\") as read_file:\n",
    "    inputs = read_file.read()\n",
    "    input_list = inputs.split('\\n')\n",
    "\n",
    "    for i in range(len(input_list)):\n",
    "        if input_list[i] != '':\n",
    "            input_list[i] = int(input_list[i])\n",
    "\n",
    "    total_calories = 0 # Total calories for one elf\n",
    "    top_calories_1 = 0 # First most calories overall\n",
    "    top_calories_2 = 0 # Second most calories overall\n",
    "    top_calories_3 = 0 # Third most calories overall\n",
    "    for calorie in input_list:\n",
    "        if type(calorie) == int:\n",
    "            total_calories += calorie\n",
    "        else:\n",
    "            if total_calories > top_calories_1:\n",
    "                top_calories_3 = top_calories_2\n",
    "                top_calories_2 = top_calories_1\n",
    "                top_calories_1 = total_calories\n",
    "            elif total_calories > top_calories_2:\n",
    "                top_calories_3 = top_calories_2\n",
    "                top_calories_2 = total_calories\n",
    "            elif total_calories > top_calories_3:\n",
    "                top_calories_3 = total_calories\n",
    "            \n",
    "            total_calories = 0\n",
    "    \n",
    "    most_calories = 0 # Top 3 most calories overall\n",
    "    most_calories = top_calories_1 + top_calories_2 + top_calories_3\n",
    "            \n",
    "    print(most_calories)\n",
    "    print(top_calories_1)\n",
    "    print(top_calories_2)\n",
    "    print(top_calories_3)"
   ]
  }
 ],
 "metadata": {
  "kernelspec": {
   "display_name": "Python 3.11.0 64-bit",
   "language": "python",
   "name": "python3"
  },
  "language_info": {
   "codemirror_mode": {
    "name": "ipython",
    "version": 3
   },
   "file_extension": ".py",
   "mimetype": "text/x-python",
   "name": "python",
   "nbconvert_exporter": "python",
   "pygments_lexer": "ipython3",
   "version": "3.11.0"
  },
  "orig_nbformat": 4,
  "vscode": {
   "interpreter": {
    "hash": "5238573367df39f7286bb46f9ff5f08f63a01a80960060ce41e3c79b190280fa"
   }
  }
 },
 "nbformat": 4,
 "nbformat_minor": 2
}
