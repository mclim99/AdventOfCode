{
 "cells": [
  {
   "cell_type": "code",
   "execution_count": 9,
   "metadata": {},
   "outputs": [
    {
     "name": "stdout",
     "output_type": "stream",
     "text": [
      "['Q', 'P', 'J', 'P', 'L', 'M', 'N', 'N', 'R']\n"
     ]
    }
   ],
   "source": [
    "# Part 1\n",
    "with open(\"input.txt\") as read_file:\n",
    "    inputs = read_file.read()\n",
    "    input_list = inputs.split('\\n')\n",
    "    input_list.pop()\n",
    "\n",
    "    number_of_stacks = int((len(input_list[0]) + 1) / 4)\n",
    "\n",
    "    emtpy_line_index = -1 # To find the stack indexes.\n",
    "    for i in range(len(input_list)):\n",
    "        if input_list[i] == '':\n",
    "            empty_line_index = i\n",
    "            break\n",
    "\n",
    "    stack_positions_line = input_list[empty_line_index - 1]\n",
    "    stack_indexes = {}\n",
    "    for i in range(number_of_stacks):\n",
    "        stack_position = stack_positions_line.find(str(i + 1))\n",
    "        stack_indexes[i + 1] = stack_position\n",
    "\n",
    "    stack_dict = {}\n",
    "    for i in range(number_of_stacks):\n",
    "        stack_dict[i + 1] = []\n",
    "    \n",
    "    stack_indexes_values = list(stack_indexes.values())\n",
    "    for i in range(len(input_list)):\n",
    "        current_line = input_list[i]\n",
    "        if current_line[0] != ' ':\n",
    "            for j in range(len(current_line)):\n",
    "                if ((j in stack_indexes_values) and (current_line[j] != ' ')):\n",
    "                    stack_number = stack_indexes_values.index(j) + 1\n",
    "                    crate = current_line[j]\n",
    "                    stack_dict[stack_number].insert(0, crate)\n",
    "        else:\n",
    "            break\n",
    "    \n",
    "    move_instructions_index = empty_line_index + 1\n",
    "    interrim_stack = []\n",
    "    for i in range(move_instructions_index, len(input_list)):\n",
    "        move_instructions = []\n",
    "        current_line = input_list[i]\n",
    "        split_current_line = current_line.split(\" \")\n",
    "        for element in split_current_line:\n",
    "            if element.isdigit():\n",
    "                move_instructions.append(int(element))\n",
    "        \n",
    "        move_amount = move_instructions[0]\n",
    "        from_stack = move_instructions[1]\n",
    "        to_stack = move_instructions[2]\n",
    "        for amount in range(move_amount):\n",
    "            crate = stack_dict[from_stack].pop()\n",
    "            stack_dict[to_stack].append(crate)\n",
    "        \n",
    "    top_stack = []\n",
    "    for stack in stack_dict:\n",
    "        top_stack.append(stack_dict[stack].pop())\n",
    "    \n",
    "    print(top_stack)"
   ]
  },
  {
   "cell_type": "code",
   "execution_count": 10,
   "metadata": {},
   "outputs": [
    {
     "name": "stdout",
     "output_type": "stream",
     "text": [
      "['B', 'Q', 'D', 'N', 'W', 'J', 'P', 'V', 'J']\n"
     ]
    }
   ],
   "source": [
    "# Part 2\n",
    "with open(\"input.txt\") as read_file:\n",
    "    inputs = read_file.read()\n",
    "    input_list = inputs.split('\\n')\n",
    "    input_list.pop()\n",
    "\n",
    "    number_of_stacks = int((len(input_list[0]) + 1) / 4)\n",
    "\n",
    "    emtpy_line_index = -1 # To find the stack indexes.\n",
    "    for i in range(len(input_list)):\n",
    "        if input_list[i] == '':\n",
    "            empty_line_index = i\n",
    "            break\n",
    "\n",
    "    stack_positions_line = input_list[empty_line_index - 1]\n",
    "    stack_indexes = {}\n",
    "    for i in range(number_of_stacks):\n",
    "        stack_position = stack_positions_line.find(str(i + 1))\n",
    "        stack_indexes[i + 1] = stack_position\n",
    "\n",
    "    stack_dict = {}\n",
    "    for i in range(number_of_stacks):\n",
    "        stack_dict[i + 1] = []\n",
    "    \n",
    "    stack_indexes_values = list(stack_indexes.values())\n",
    "    for i in range(len(input_list)):\n",
    "        current_line = input_list[i]\n",
    "        if current_line[0] != ' ':\n",
    "            for j in range(len(current_line)):\n",
    "                if ((j in stack_indexes_values) and (current_line[j] != ' ')):\n",
    "                    stack_number = stack_indexes_values.index(j) + 1\n",
    "                    crate = current_line[j]\n",
    "                    stack_dict[stack_number].insert(0, crate)\n",
    "        else:\n",
    "            break\n",
    "    \n",
    "    move_instructions_index = empty_line_index + 1\n",
    "    interrim_stack = []\n",
    "    for i in range(move_instructions_index, len(input_list)):\n",
    "        move_instructions = []\n",
    "        current_line = input_list[i]\n",
    "        split_current_line = current_line.split(\" \")\n",
    "        for element in split_current_line:\n",
    "            if element.isdigit():\n",
    "                move_instructions.append(int(element))\n",
    "        \n",
    "        move_amount = move_instructions[0]\n",
    "        from_stack = move_instructions[1]\n",
    "        to_stack = move_instructions[2]\n",
    "        crates = []\n",
    "        for amount in range(move_amount):\n",
    "            crates.insert(0, stack_dict[from_stack].pop())\n",
    "        stack_dict[to_stack].extend(crates)\n",
    "        \n",
    "    top_stack = []\n",
    "    for stack in stack_dict:\n",
    "        top_stack.append(stack_dict[stack].pop())\n",
    "    \n",
    "    print(top_stack)"
   ]
  }
 ],
 "metadata": {
  "kernelspec": {
   "display_name": "Python 3.11.0 64-bit",
   "language": "python",
   "name": "python3"
  },
  "language_info": {
   "codemirror_mode": {
    "name": "ipython",
    "version": 3
   },
   "file_extension": ".py",
   "mimetype": "text/x-python",
   "name": "python",
   "nbconvert_exporter": "python",
   "pygments_lexer": "ipython3",
   "version": "3.11.0"
  },
  "orig_nbformat": 4,
  "vscode": {
   "interpreter": {
    "hash": "5238573367df39f7286bb46f9ff5f08f63a01a80960060ce41e3c79b190280fa"
   }
  }
 },
 "nbformat": 4,
 "nbformat_minor": 2
}
