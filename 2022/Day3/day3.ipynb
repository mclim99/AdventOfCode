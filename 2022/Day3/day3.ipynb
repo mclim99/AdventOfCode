{
 "cells": [
  {
   "cell_type": "code",
   "execution_count": 94,
   "metadata": {},
   "outputs": [
    {
     "name": "stdout",
     "output_type": "stream",
     "text": [
      "7878\n"
     ]
    }
   ],
   "source": [
    "# Part 1\n",
    "import string\n",
    "\n",
    "with open(\"input.txt\") as read_file:\n",
    "    inputs = read_file.read()\n",
    "    input_list = inputs.split('\\n')\n",
    "    input_list.pop()\n",
    "\n",
    "    alphabet_size = 52 # Include both lowercase and uppercase.\n",
    "    alphabet = list(string.ascii_letters)\n",
    "    priorities = [i for i in range(1, alphabet_size + 1)]\n",
    "    priority_assignment = dict(zip(alphabet, priorities)) # Make the priority assignment.\n",
    "    letter_tracker = {}\n",
    "\n",
    "    compartments = [0, 0]\n",
    "    priority_sum = 0\n",
    "    for input in input_list:\n",
    "        input_length_middle = int(len(input) / 2)\n",
    "        compartments[0] = list(input[:input_length_middle]) # First half of the string.\n",
    "        compartments[1] = list(input[input_length_middle:]) # Second half of the string.\n",
    "\n",
    "        for item in compartments[0]:\n",
    "            letter_appearance = letter_tracker.setdefault(item, 0) # Check that the letter appears. If not, set it to zero.\n",
    "\n",
    "            if (letter_appearance == 0):\n",
    "                letter_tracker[item] += 1 # Increment if the letter exists in the first compartment.\n",
    "\n",
    "        for item in compartments[1]:\n",
    "            letter_appearance = letter_tracker.setdefault(item, 0)\n",
    "\n",
    "            if (letter_appearance == 1):\n",
    "                letter_tracker[item] += 1 # Increment if the letter appears in the second compartment.\n",
    "\n",
    "        for item in letter_tracker:\n",
    "            if letter_tracker.get(item) == 2:\n",
    "                priority_sum += priority_assignment.get(item) # If the letter appears in both compartments, update the priority sum.\n",
    "        \n",
    "        letter_tracker.clear()\n",
    "                \n",
    "    print(priority_sum)"
   ]
  },
  {
   "cell_type": "code",
   "execution_count": 92,
   "metadata": {},
   "outputs": [
    {
     "name": "stdout",
     "output_type": "stream",
     "text": [
      "2760\n"
     ]
    }
   ],
   "source": [
    "# Part 2\n",
    "import string\n",
    "\n",
    "with open(\"input.txt\") as read_file:\n",
    "    inputs = read_file.read()\n",
    "    input_list = inputs.split('\\n')\n",
    "    input_list.pop()\n",
    "\n",
    "    alphabet_size = 52 # Include both lowercase and uppercase.\n",
    "    alphabet = list(string.ascii_letters)\n",
    "    priorities = [i for i in range(1, alphabet_size + 1)]\n",
    "    priority_assignment = dict(zip(alphabet, priorities)) # Make the priority assignment.\n",
    "    letter_tracker = {}\n",
    "\n",
    "    rucksacks = [0, 0, 0]\n",
    "    priority_sum = 0\n",
    "    for i in range(len(input_list)):\n",
    "        rucksack_index = i % 3\n",
    "        rucksacks[rucksack_index] = input_list[i] # Update the group's rucksack.\n",
    "\n",
    "        items = list(input_list[i])\n",
    "        for item in items:\n",
    "            letter_appearance = letter_tracker.setdefault(item, 0) # Check that the letter appears. If not, set it to zero.\n",
    "            \n",
    "            # Check that the letter appears at least once in each rucksack.\n",
    "            if (letter_appearance == 0) and (rucksack_index == 0):\n",
    "                letter_tracker[item] += 1\n",
    "            elif (letter_appearance == 1) and (rucksack_index == 1):\n",
    "                letter_tracker[item] += 1\n",
    "            elif (letter_appearance == 2) and (rucksack_index == 2):\n",
    "                letter_tracker[item] += 1\n",
    "\n",
    "        # If group is complete, update the priority sum and reset the tracker and the group's rucksack.\n",
    "        if rucksacks.count(0) == 0:\n",
    "            for item in letter_tracker:\n",
    "                if letter_tracker.get(item) == 3:\n",
    "                    priority_sum += priority_assignment.get(item)\n",
    "            \n",
    "            letter_tracker.clear()\n",
    "            rucksacks = [0, 0, 0]\n",
    "    \n",
    "    print(priority_sum)"
   ]
  }
 ],
 "metadata": {
  "kernelspec": {
   "display_name": "Python 3.11.0 64-bit",
   "language": "python",
   "name": "python3"
  },
  "language_info": {
   "codemirror_mode": {
    "name": "ipython",
    "version": 3
   },
   "file_extension": ".py",
   "mimetype": "text/x-python",
   "name": "python",
   "nbconvert_exporter": "python",
   "pygments_lexer": "ipython3",
   "version": "3.11.0"
  },
  "orig_nbformat": 4,
  "vscode": {
   "interpreter": {
    "hash": "5238573367df39f7286bb46f9ff5f08f63a01a80960060ce41e3c79b190280fa"
   }
  }
 },
 "nbformat": 4,
 "nbformat_minor": 2
}
