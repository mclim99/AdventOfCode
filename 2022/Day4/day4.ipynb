{
 "cells": [
  {
   "cell_type": "code",
   "execution_count": 12,
   "metadata": {},
   "outputs": [
    {
     "name": "stdout",
     "output_type": "stream",
     "text": [
      "450\n"
     ]
    }
   ],
   "source": [
    "# Part 1\n",
    "with open(\"input.txt\") as read_file:\n",
    "    inputs = read_file.read()\n",
    "    input_list = inputs.split('\\n')\n",
    "    input_list.pop()\n",
    "    \n",
    "    range_pairs = [] # Reformatted input list\n",
    "    range_input = (0, 0)\n",
    "    for input in input_list:\n",
    "        range_list = list(input.split(','))\n",
    "\n",
    "        range_pair = [] # Formatted elf pair list\n",
    "        for range_input in range_list:\n",
    "            range_formatted = tuple(map(int, range_input.split('-')))\n",
    "            range_pair.append(range_formatted)\n",
    "        range_pairs.append(range_pair)\n",
    "\n",
    "    overlap_count = 0\n",
    "    for pair in range_pairs:\n",
    "        first_min_bound = pair[0][0]\n",
    "        first_max_bound = pair[0][1]\n",
    "        second_min_bound = pair[1][0]\n",
    "        second_max_bound = pair[1][1]\n",
    "        if (first_min_bound in range(second_min_bound, second_max_bound + 1)) and (first_max_bound in range(second_min_bound, second_max_bound + 1)):\n",
    "            overlap_count += 1\n",
    "        elif (second_min_bound in range(first_min_bound, first_max_bound + 1)) and (second_max_bound in range(first_min_bound, first_max_bound + 1)):\n",
    "            overlap_count += 1\n",
    "    \n",
    "    print(overlap_count)"
   ]
  },
  {
   "cell_type": "code",
   "execution_count": 3,
   "metadata": {},
   "outputs": [
    {
     "name": "stdout",
     "output_type": "stream",
     "text": [
      "837\n"
     ]
    }
   ],
   "source": [
    "# Part 2\n",
    "with open(\"input.txt\") as read_file:\n",
    "    inputs = read_file.read()\n",
    "    input_list = inputs.split('\\n')\n",
    "    input_list.pop()\n",
    "    \n",
    "    range_pairs = [] # Reformatted input list\n",
    "    range_input = (0, 0)\n",
    "    for input in input_list:\n",
    "        range_list = list(input.split(','))\n",
    "\n",
    "        range_pair = [] # Formatted elf pair list\n",
    "        for range_input in range_list:\n",
    "            range_formatted = tuple(map(int, range_input.split('-')))\n",
    "            range_pair.append(range_formatted)\n",
    "        range_pairs.append(range_pair)\n",
    "\n",
    "    overlap_count = 0\n",
    "    for pair in range_pairs:\n",
    "        first_min_bound = pair[0][0]\n",
    "        first_max_bound = pair[0][1]\n",
    "        second_min_bound = pair[1][0]\n",
    "        second_max_bound = pair[1][1]\n",
    "\n",
    "        if (first_min_bound in range(second_min_bound, second_max_bound + 1)) or (first_max_bound in range(second_min_bound, second_max_bound + 1)):\n",
    "            overlap_count += 1\n",
    "        elif (second_min_bound in range(first_min_bound, first_max_bound + 1)) or (second_max_bound in range(first_min_bound, first_max_bound + 1)):\n",
    "            overlap_count += 1\n",
    "    \n",
    "    print(overlap_count)"
   ]
  }
 ],
 "metadata": {
  "kernelspec": {
   "display_name": "Python 3.11.0 64-bit",
   "language": "python",
   "name": "python3"
  },
  "language_info": {
   "codemirror_mode": {
    "name": "ipython",
    "version": 3
   },
   "file_extension": ".py",
   "mimetype": "text/x-python",
   "name": "python",
   "nbconvert_exporter": "python",
   "pygments_lexer": "ipython3",
   "version": "3.11.0"
  },
  "orig_nbformat": 4,
  "vscode": {
   "interpreter": {
    "hash": "5238573367df39f7286bb46f9ff5f08f63a01a80960060ce41e3c79b190280fa"
   }
  }
 },
 "nbformat": 4,
 "nbformat_minor": 2
}
