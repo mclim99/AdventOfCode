{
 "cells": [
  {
   "cell_type": "code",
   "execution_count": 27,
   "metadata": {},
   "outputs": [
    {
     "name": "stdout",
     "output_type": "stream",
     "text": [
      "22897\n"
     ]
    }
   ],
   "source": [
    "# Part 1\n",
    "def main():\n",
    "    with open(\"input.txt\", 'r') as input_file:\n",
    "        input_lines = [line.rstrip() for line in input_file.readlines()] # Store string inputs into a list\n",
    "        \n",
    "        sum_of_points = 0 # Record the sum of the scratchcards' points\n",
    "\n",
    "        # For each card read from the list of inputs...\n",
    "        for card in input_lines:\n",
    "            # Store the winning numbers and the personal numbers into separate lists\n",
    "            card_numbers = card.split(\": \")[1].split(\" | \")\n",
    "            winning_numbers = [number for number in card_numbers[0].split(\" \") if number != '']\n",
    "            personal_numbers = [number for number in card_numbers[1].split(\" \") if number != '']\n",
    "\n",
    "            number_of_matches = 0 # Store the number of matches\n",
    "\n",
    "            # For each number in personal numbers...\n",
    "            for number in personal_numbers:\n",
    "                # If the number matches one of the winning numbers, increment the number of matches by 1\n",
    "                if number in winning_numbers:\n",
    "                    number_of_matches += 1\n",
    "\n",
    "            points = int(pow(2, (number_of_matches - 1))) # Calculate the points based on a power of 2 since the points double after each subsequent match\n",
    "            sum_of_points += points # Sum the points into a total\n",
    "\n",
    "        # Print the total points won from the scratchcards\n",
    "        print(sum_of_points)\n",
    "\n",
    "if __name__ == \"__main__\":\n",
    "    main()"
   ]
  },
  {
   "cell_type": "code",
   "execution_count": 34,
   "metadata": {},
   "outputs": [
    {
     "name": "stdout",
     "output_type": "stream",
     "text": [
      "5095824\n"
     ]
    }
   ],
   "source": [
    "# Part 2\n",
    "def main():\n",
    "    with open(\"input.txt\", 'r') as input_file:\n",
    "        input_lines = [line.rstrip() for line in input_file.readlines()] # Store string inputs into a list\n",
    "        \n",
    "        card_data = {} # Record the number of scratchcards in a dictionary\n",
    "\n",
    "        # Set up the dictionary with the card and their properties\n",
    "        for card in input_lines:\n",
    "            card_id_number = card.split(\": \")[0].lstrip(\"Card \")\n",
    "            card_id = \"Card \" + card_id_number\n",
    "            card_data[card_id] = 1\n",
    "\n",
    "        # For each card read from the list of inputs...\n",
    "        for card in input_lines:\n",
    "            # Store the winning numbers and the personal numbers into separate lists\n",
    "            card_with_numbers = card.split(\": \")\n",
    "            card_id = \"Card \" + card_with_numbers[0].lstrip(\"Card \")\n",
    "            card_id_number = int(card_with_numbers[0].lstrip(\"Card \"))\n",
    "            card_numbers = card_with_numbers[1].split(\" | \")\n",
    "            winning_numbers = [number for number in card_numbers[0].split(\" \") if number != '']\n",
    "            personal_numbers = [number for number in card_numbers[1].split(\" \") if number != '']\n",
    "\n",
    "            number_of_matches = 0 # Store the number of matches\n",
    "\n",
    "            # For each number in personal numbers...\n",
    "            for number in personal_numbers:\n",
    "                # If the number matches one of the winning numbers, increment the number of matches by 1\n",
    "                if number in winning_numbers:\n",
    "                    number_of_matches += 1\n",
    "\n",
    "            # Cascade all the things.\n",
    "            # For the number of cards...\n",
    "            for i in range(card_data[card_id]):\n",
    "                # For the current card and the next cards equal to the number of winning numbers...\n",
    "                for j in range(card_id_number, card_id_number + number_of_matches):\n",
    "                    update_card = min(j + 1, len(card_data)) # Get the card's number, but don't exceed the last card's number\n",
    "                    card_id_match = \"Card \" + str(update_card) # Get the key for the dictionary\n",
    "                    card_data[card_id_match] += 1 # Increment the number of cards by 1 for each pass through the loop\n",
    "\n",
    "        total_scratchcards = 0 # Record the total number of scratchcards earned from the winning tickets\n",
    "        \n",
    "        # Sum all the scratchcards\n",
    "        for card in range(len(card_data)):\n",
    "            card_id_match = \"Card \" + str(card + 1)\n",
    "            total_scratchcards += card_data[card_id_match]\n",
    "\n",
    "        # Print the total number of scratchcards earned from the winning tickets\n",
    "        print(total_scratchcards)\n",
    "\n",
    "if __name__ == \"__main__\":\n",
    "    main()"
   ]
  }
 ],
 "metadata": {
  "kernelspec": {
   "display_name": "Python 3",
   "language": "python",
   "name": "python3"
  },
  "language_info": {
   "codemirror_mode": {
    "name": "ipython",
    "version": 3
   },
   "file_extension": ".py",
   "mimetype": "text/x-python",
   "name": "python",
   "nbconvert_exporter": "python",
   "pygments_lexer": "ipython3",
   "version": "3.11.0"
  }
 },
 "nbformat": 4,
 "nbformat_minor": 2
}
