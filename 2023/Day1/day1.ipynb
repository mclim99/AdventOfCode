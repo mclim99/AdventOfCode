{
 "cells": [
  {
   "cell_type": "code",
   "execution_count": 17,
   "metadata": {},
   "outputs": [
    {
     "name": "stdout",
     "output_type": "stream",
     "text": [
      "56108\n"
     ]
    }
   ],
   "source": [
    "# Part 1\n",
    "def main():\n",
    "    with open(\"input.txt\", 'r') as input_file:\n",
    "        input_lines = [line for line in input_file.readlines()] # Store string inputs into a list\n",
    "        parsed_numbers = []\n",
    "        calibration_values = 0\n",
    "\n",
    "        # For each line in the inputs list, separate the string of characters into a list.\n",
    "        # Check each character to see if it's a digit. If it is a digit, add the digit to the parsed numbers list.\n",
    "        # Concatenate the first and last number (as a string) in the parsed numbers list\n",
    "        # and add it to the total calibration values to get the final value.\n",
    "        for line in input_lines:\n",
    "            line_char = list(line)\n",
    "            for char in line_char:\n",
    "                if char.isdigit():\n",
    "                    parsed_numbers.append(char)\n",
    "            calibration_values += int(parsed_numbers[0] + parsed_numbers[len(parsed_numbers) - 1])\n",
    "            parsed_numbers.clear()\n",
    "        print(calibration_values)\n",
    "\n",
    "if __name__ == \"__main__\":\n",
    "    main()"
   ]
  },
  {
   "cell_type": "code",
   "execution_count": 36,
   "metadata": {},
   "outputs": [
    {
     "name": "stdout",
     "output_type": "stream",
     "text": [
      "55652\n"
     ]
    }
   ],
   "source": [
    "# Part 2\n",
    "def main():\n",
    "    # Create a dictionary to map the number string to its corresponding number value\n",
    "    digit_mapping = {\"one\": 1, \"two\": 2, \"three\": 3, \"four\": 4, \"five\": 5, \"six\": 6, \"seven\": 7, \"eight\": 8, \"nine\": 9, \n",
    "                     \"1\": 1, \"2\": 2, \"3\": 3, \"4\": 4, \"5\": 5, \"6\": 6, \"7\": 7, \"8\": 8, \"9\": 9}\n",
    "    \n",
    "    with open(\"input.txt\", 'r') as input_file:\n",
    "        input_lines = [line for line in input_file.readlines()] # Store string inputs into a list\n",
    "        parsed_numbers = []\n",
    "        calibration_values = 0\n",
    "        first_number = -1 # The first number to occur in the string\n",
    "        last_number = -1 # The last number to occur in the string\n",
    "\n",
    "        # For each line in the inputs list, go through the list of keys in the dictionary and find all instances\n",
    "        # of the keys in the input string. If any keys are found, add them as a tuple to the parsed numbers list\n",
    "        # with their index position in the input string.\n",
    "        # After sorting the parsed numbers list, store the first and last number found in the input string.\n",
    "        # Concatenate the first and last number (as a string) in the parsed numbers list\n",
    "        # and add it to the total calibration values to get the final value.\n",
    "        for line in input_lines:\n",
    "            for key in digit_mapping.keys():\n",
    "                key_index = line.find(key)\n",
    "                while key_index >= 0:\n",
    "                    parsed_numbers.append((key_index, digit_mapping[key]))\n",
    "                    key_index = line.find(key, key_index + 1)\n",
    "            parsed_numbers.sort(key=lambda n: n[0])\n",
    "            first_number = parsed_numbers[0][1]\n",
    "            last_number = parsed_numbers[-1][1]\n",
    "            calibration_values += int(str(first_number) + str(last_number))\n",
    "            parsed_numbers.clear()\n",
    "        print(calibration_values)\n",
    "\n",
    "if __name__ == \"__main__\":\n",
    "    main()"
   ]
  }
 ],
 "metadata": {
  "kernelspec": {
   "display_name": "Python 3",
   "language": "python",
   "name": "python3"
  },
  "language_info": {
   "codemirror_mode": {
    "name": "ipython",
    "version": 3
   },
   "file_extension": ".py",
   "mimetype": "text/x-python",
   "name": "python",
   "nbconvert_exporter": "python",
   "pygments_lexer": "ipython3",
   "version": "3.9.13"
  },
  "orig_nbformat": 4
 },
 "nbformat": 4,
 "nbformat_minor": 2
}
