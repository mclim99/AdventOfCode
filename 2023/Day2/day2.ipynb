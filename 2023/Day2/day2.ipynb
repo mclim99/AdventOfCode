{
 "cells": [
  {
   "cell_type": "code",
   "execution_count": 1,
   "metadata": {},
   "outputs": [
    {
     "name": "stdout",
     "output_type": "stream",
     "text": [
      "2285\n"
     ]
    }
   ],
   "source": [
    "# Part 1\n",
    "def main():\n",
    "    with open(\"input.txt\", 'r') as input_file:\n",
    "        input_lines = [line for line in input_file.readlines()] # Store string inputs into a list\n",
    "        bag_of_dice = {\"red\": 12, \"green\": 13, \"blue\": 14} # Each number of colored dice in the bag\n",
    "        possible_combinations = 0 # The added IDs of the games with possible combinations\n",
    "        skip_game = False\n",
    "        skip_set = False\n",
    "        \n",
    "        # For each line in the list of inputs...\n",
    "        for i in range(len(input_lines)):\n",
    "            separated_line = input_lines[i].split(\": \")[1] # Create a list of the number of colored dice grabbed from the bag each time\n",
    "            game_sets = separated_line.split(\"; \") # Separate each dice pull into another list\n",
    "\n",
    "            # For each dice pulled in a single game...\n",
    "            for set in game_sets:\n",
    "                pulled_dice = set.split(\", \") # Separate the grabbed dice by color\n",
    "                \n",
    "                # For each grabbed dice of a single color...\n",
    "                for dice in pulled_dice:\n",
    "                    # Check whether the dice pulled was red, green, or blue.\n",
    "                    # If the dice pulled for each color exceeds what the bag actually holds (i.e., impossible), break the loop for the set.\n",
    "                    if (dice.find(\"red\") != -1) and (int(dice.split(\" \")[0]) > bag_of_dice[\"red\"]):\n",
    "                        skip_set = True\n",
    "                        break\n",
    "                    elif (dice.find(\"green\") != -1) and (int(dice.split(\" \")[0]) > bag_of_dice[\"green\"]):\n",
    "                        skip_set = True\n",
    "                        break\n",
    "                    elif (dice.find(\"blue\") != -1) and (int(dice.split(\" \")[0]) > bag_of_dice[\"blue\"]):\n",
    "                        skip_set = True\n",
    "                        break\n",
    "                \n",
    "                # If the set was skipped, skip the game since it has now been proved to be impossible.\n",
    "                if skip_set:\n",
    "                    skip_game = True\n",
    "                    skip_set = False\n",
    "                    break\n",
    "\n",
    "            # If the game was not skipped, add it to the sum of game IDs that were possible.\n",
    "            if not skip_game:\n",
    "                possible_combinations += i + 1 # Add one to the iteration index to get the Game #\n",
    "            skip_game = False\n",
    "        \n",
    "        # Print the added IDs of the games with possible combinations\n",
    "        print(possible_combinations)\n",
    "\n",
    "if __name__ == \"__main__\":\n",
    "    main()"
   ]
  },
  {
   "cell_type": "code",
   "execution_count": 26,
   "metadata": {},
   "outputs": [
    {
     "name": "stdout",
     "output_type": "stream",
     "text": [
      "77021\n"
     ]
    }
   ],
   "source": [
    "# Part 2\n",
    "def main():\n",
    "    with open(\"input.txt\", 'r') as input_file:\n",
    "        input_lines = [line for line in input_file.readlines()] # Store string inputs into a list\n",
    "        min_bag_of_dice = {\"red\": 0, \"green\": 0, \"blue\": 0} # Store the minimum number of dice needed for each game\n",
    "        pulled_dice = {\"red\": [], \"green\": [], \"blue\": []} # Store the number of pulled dice from each set into a list\n",
    "        power_of_set = 1 # Basis for multiplying the minimum number of each colored dice in a game\n",
    "        sum_of_set_powers = 0 # The sum of the powers of sets\n",
    "        \n",
    "        # For each line in the list of inputs...\n",
    "        for i in range(len(input_lines)):\n",
    "            separated_line = input_lines[i].split(\": \")[1] # Create a list of the number of colored dice grabbed from the bag each time\n",
    "            game_sets = separated_line.split(\"; \") # Separate each dice pull into another list\n",
    "\n",
    "            # For each dice pulled in a single game...\n",
    "            for set in game_sets:\n",
    "                pulled_dice_set = set.split(\", \") # Separate the grabbed dice by color\n",
    "                \n",
    "                # For each grabbed dice of a single color...\n",
    "                for dice in pulled_dice_set:\n",
    "                    # Check whether the dice pulled was red, green, or blue.\n",
    "                    # If dice of one of the colors were drawn, add the number to the list of pulled dice in a set of a game.\n",
    "                    if dice.find(\"red\") != -1:\n",
    "                        pulled_dice[\"red\"].append(int(dice.split(\" \")[0]))\n",
    "                    elif dice.find(\"green\") != -1:\n",
    "                        pulled_dice[\"green\"].append(int(dice.split(\" \")[0]))\n",
    "                    elif dice.find(\"blue\") != -1:\n",
    "                        pulled_dice[\"blue\"].append(int(dice.split(\" \")[0]))\n",
    "\n",
    "            # For each colored dice...\n",
    "            for key in pulled_dice.keys():\n",
    "                # Find the highest number of dice pulled. \n",
    "                # If none were drawn, then note that zero dice of that color were in the bag.\n",
    "                if pulled_dice[key]:\n",
    "                    min_bag_of_dice[key] = max(pulled_dice[key])\n",
    "                else:\n",
    "                    min_bag_of_dice[key] = 0\n",
    "                \n",
    "            for value in min_bag_of_dice.values():\n",
    "                power_of_set *= value # Find the power of the set of dice\n",
    "            \n",
    "            sum_of_set_powers += power_of_set # Sum all powers of the sets\n",
    "\n",
    "            # Reset the values for the next game\n",
    "            pulled_dice = {\"red\": [], \"green\": [], \"blue\": []}\n",
    "            power_of_set = 1\n",
    "\n",
    "        # Print the sum of powers for the sets\n",
    "        print(sum_of_set_powers)\n",
    "\n",
    "if __name__ == \"__main__\":\n",
    "    main()"
   ]
  }
 ],
 "metadata": {
  "kernelspec": {
   "display_name": "Python 3",
   "language": "python",
   "name": "python3"
  },
  "language_info": {
   "codemirror_mode": {
    "name": "ipython",
    "version": 3
   },
   "file_extension": ".py",
   "mimetype": "text/x-python",
   "name": "python",
   "nbconvert_exporter": "python",
   "pygments_lexer": "ipython3",
   "version": "3.11.0"
  },
  "orig_nbformat": 4,
  "vscode": {
   "interpreter": {
    "hash": "5238573367df39f7286bb46f9ff5f08f63a01a80960060ce41e3c79b190280fa"
   }
  }
 },
 "nbformat": 4,
 "nbformat_minor": 2
}
