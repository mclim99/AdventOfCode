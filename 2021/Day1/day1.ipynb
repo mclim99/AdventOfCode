{
 "cells": [
  {
   "cell_type": "code",
   "execution_count": 4,
   "metadata": {},
   "outputs": [
    {
     "name": "stdout",
     "output_type": "stream",
     "text": [
      "1316\n"
     ]
    }
   ],
   "source": [
    "# Part 1\n",
    "with open(\"input.txt\") as read_file:\n",
    "    inputs = read_file.read()\n",
    "    input_list = inputs.split('\\n')\n",
    "    \n",
    "    measurements = 0\n",
    "    for i in range(1, len(input_list) - 1):\n",
    "        if int(input_list[i]) > int(input_list[i - 1]):\n",
    "            # Increased\n",
    "            measurements += 1\n",
    "    print(measurements)"
   ]
  },
  {
   "cell_type": "code",
   "execution_count": 3,
   "metadata": {},
   "outputs": [
    {
     "name": "stdout",
     "output_type": "stream",
     "text": [
      "1344\n"
     ]
    }
   ],
   "source": [
    "# Part 2\n",
    "with open(\"input.txt\") as read_file:\n",
    "    inputs = read_file.read()\n",
    "    input_list = inputs.split('\\n')\n",
    "\n",
    "    group_sum_list = []\n",
    "    for i in range(2, len(input_list) - 1):\n",
    "        # Add the previous three numbers\n",
    "        group_sum = int(input_list[i]) + int(input_list[i - 1]) + int(input_list[i - 2])\n",
    "        group_sum_list.append(group_sum)\n",
    "    \n",
    "    sums = 0\n",
    "    for i in range(1, len(group_sum_list)):\n",
    "        if group_sum_list[i] > group_sum_list[i - 1]:\n",
    "            # Increased\n",
    "            sums += 1\n",
    "    print(sums)"
   ]
  }
 ],
 "metadata": {
  "interpreter": {
   "hash": "ac59ebe37160ed0dfa835113d9b8498d9f09ceb179beaac4002f036b9467c963"
  },
  "kernelspec": {
   "display_name": "Python 3.9.6 64-bit",
   "name": "python3"
  },
  "language_info": {
   "codemirror_mode": {
    "name": "ipython",
    "version": 3
   },
   "file_extension": ".py",
   "mimetype": "text/x-python",
   "name": "python",
   "nbconvert_exporter": "python",
   "pygments_lexer": "ipython3",
   "version": "3.9.6"
  },
  "orig_nbformat": 4
 },
 "nbformat": 4,
 "nbformat_minor": 2
}
