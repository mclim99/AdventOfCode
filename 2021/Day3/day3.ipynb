{
 "cells": [
  {
   "cell_type": "code",
   "execution_count": 17,
   "metadata": {},
   "outputs": [
    {
     "name": "stdout",
     "output_type": "stream",
     "text": [
      "2261546\n"
     ]
    }
   ],
   "source": [
    "# Part 1\n",
    "with open(\"input.txt\") as read_file:\n",
    "    inputs = read_file.read() # Read the input file.\n",
    "    input_list = inputs.split('\\n') # Split the inputs into a list by newline.\n",
    "    input_list.pop() # Remove the extra space at the end of the list.\n",
    "\n",
    "    number_of_digits = len(input_list[0]) # Store the number of digits in the binary string.\n",
    "    number_of_ones = [0] * number_of_digits\n",
    "    number_of_zeros = [0] * number_of_digits\n",
    "    for i in range(len(input_list)):\n",
    "        digits = list(input_list[i]) # Separate the binary input into individual digits.\n",
    "        for j in range(len(digits)):\n",
    "            if digits[j] == '1':\n",
    "                number_of_ones[j] += 1 # Count the number of times a 1 appears in the binary input columns.\n",
    "    for i in range(number_of_digits):\n",
    "        number_of_zeros[i] = len(input_list) - number_of_ones[i] # Find the inverse of 1's for funsies.\n",
    "    \n",
    "    # Initialize the lists for the gamma rate and epsilon rate with 0.\n",
    "    gamma_bits = ['0'] * number_of_digits\n",
    "    epsilon_bits = ['0'] * number_of_digits\n",
    "    for i in range(number_of_digits):\n",
    "        if number_of_ones[i] > number_of_zeros[i]:\n",
    "            gamma_bits[i] = '1' # If more 1's appeared in the column, replace the 0 with a 1 for the gamma rate.\n",
    "        else:\n",
    "            epsilon_bits[i] = '1' # Find the inverse for the epsilon rate.\n",
    "    # Form the bit string.\n",
    "    gamma_bit_string = ''.join(gamma_bits) \n",
    "    epsilon_bit_string = ''.join(epsilon_bits)\n",
    "\n",
    "    # Convert the bit string from binary to decimal.\n",
    "    gamma_rate = int(gamma_bit_string, 2)\n",
    "    epsilon_rate = int(epsilon_bit_string, 2)\n",
    "\n",
    "    # Calculate the power consumption.\n",
    "    power_consumption = gamma_rate * epsilon_rate\n",
    "    print(power_consumption)"
   ]
  }
 ],
 "metadata": {
  "interpreter": {
   "hash": "ac59ebe37160ed0dfa835113d9b8498d9f09ceb179beaac4002f036b9467c963"
  },
  "kernelspec": {
   "display_name": "Python 3.9.6 64-bit",
   "name": "python3"
  },
  "language_info": {
   "codemirror_mode": {
    "name": "ipython",
    "version": 3
   },
   "file_extension": ".py",
   "mimetype": "text/x-python",
   "name": "python",
   "nbconvert_exporter": "python",
   "pygments_lexer": "ipython3",
   "version": "3.9.6"
  },
  "orig_nbformat": 4
 },
 "nbformat": 4,
 "nbformat_minor": 2
}
