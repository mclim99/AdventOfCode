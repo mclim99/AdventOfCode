{
 "cells": [
  {
   "cell_type": "code",
   "execution_count": 28,
   "metadata": {},
   "outputs": [
    {
     "name": "stdout",
     "output_type": "stream",
     "text": [
      "2091984\n"
     ]
    }
   ],
   "source": [
    "# Part 1\n",
    "with open(\"input.txt\") as read_file:\n",
    "    inputs = read_file.read() # Read the input file.\n",
    "    input_list = inputs.split('\\n') # Split the inputs into a list by newline.\n",
    "    input_list.pop() # Remove the extra space at the end of the list.\n",
    "\n",
    "    horizontal = 0\n",
    "    depth = 0\n",
    "\n",
    "    for i in range(len(input_list)):\n",
    "        direction = input_list[i].split() # Separate command and number of units for the submarine to travel.\n",
    "        if direction[0] == \"forward\":\n",
    "            # Increase the horizontal position by the number of units.\n",
    "            horizontal += int(direction[1])\n",
    "        elif direction[0] == \"down\":\n",
    "            # Increase the depth position by the number of units.\n",
    "            depth += int(direction[1])\n",
    "        else:\n",
    "            # Decrease the depth position by the number of units.\n",
    "            depth -= int(direction[1])\n",
    "        \n",
    "\n",
    "    position = horizontal * depth # Find the product of the horizontal and depth positions.\n",
    "    print(position)"
   ]
  },
  {
   "cell_type": "code",
   "execution_count": 30,
   "metadata": {},
   "outputs": [
    {
     "name": "stdout",
     "output_type": "stream",
     "text": [
      "2086261056\n"
     ]
    }
   ],
   "source": [
    "# Part 2\n",
    "with open(\"input.txt\") as read_file:\n",
    "    inputs = read_file.read() # Read the input file.\n",
    "    input_list = inputs.split('\\n') # Split the inputs into a list by newline.\n",
    "    input_list.pop() # Remove the extra space at the end of the list.\n",
    "\n",
    "    horizontal = 0\n",
    "    depth = 0\n",
    "    aim = 0\n",
    "\n",
    "    for i in range(len(input_list)):\n",
    "        direction = input_list[i].split() # Separate the command and number of units for the submarine to travel.\n",
    "        if direction[0] == \"forward\":\n",
    "            horizontal += int(direction[1]) # Increase the horizontal position by the number of units.\n",
    "            depth += aim * int(direction[1]) # Increase the depth by the aim multiplied by the number of units.\n",
    "        elif direction[0] == \"down\":\n",
    "            # Increase the aim by the number of units.\n",
    "            aim += int(direction[1])\n",
    "        else:\n",
    "            # Decrease the aim by the number of units.\n",
    "            aim -= int(direction[1])\n",
    "        \n",
    "\n",
    "    position = horizontal * depth # Find the product of the horizontal and depth positions.\n",
    "    print(position)"
   ]
  }
 ],
 "metadata": {
  "interpreter": {
   "hash": "ac59ebe37160ed0dfa835113d9b8498d9f09ceb179beaac4002f036b9467c963"
  },
  "kernelspec": {
   "display_name": "Python 3.9.6 64-bit",
   "name": "python3"
  },
  "language_info": {
   "codemirror_mode": {
    "name": "ipython",
    "version": 3
   },
   "file_extension": ".py",
   "mimetype": "text/x-python",
   "name": "python",
   "nbconvert_exporter": "python",
   "pygments_lexer": "ipython3",
   "version": "3.9.6"
  },
  "orig_nbformat": 4
 },
 "nbformat": 4,
 "nbformat_minor": 2
}
